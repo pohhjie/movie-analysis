{
 "cells": [
  {
   "cell_type": "markdown",
   "metadata": {},
   "source": [
    "# Mini Project\n",
    "\n",
    "## Dataset 3 : The Movie Database APIs\n",
    "Source : https://www.themoviedb.org/\n",
    "\n",
    "Documentation : https://developers.themoviedb.org/3/getting-started/introduction"
   ]
  },
  {
   "cell_type": "code",
   "execution_count": 9,
   "metadata": {},
   "outputs": [],
   "source": [
    "import pandas as pd\n",
    "import matplotlib\n",
    "import matplotlib.pyplot as plt\n",
    "import requests # to make TMDB API calls\n",
    "import locale # to format currency as USD\n",
    "locale.setlocale( locale.LC_ALL, '' )\n",
    "\n",
    "api_key = 'bd31d307e12fa2d62fda2130baec4357'\n",
    "\n",
    "response = requests.get('https://api.themoviedb.org/3/discover/movie?api_key='+api_key+'&primary_release_year=2017&sort_by=revenue.desc')\n",
    "\n",
    "highest_revenue = response.json() # store parsed json response\n",
    "highest_revenue_films = highest_revenue['results']\n",
    "\n",
    "# define column names for our new dataframe\n",
    "columns = ['film', 'revenue']\n",
    "\n",
    "# create dataframe with film and revenue columns\n",
    "df = pd.DataFrame(columns=columns)"
   ]
  },
  {
   "cell_type": "code",
   "execution_count": 10,
   "metadata": {},
   "outputs": [
    {
     "name": "stdout",
     "output_type": "stream",
     "text": [
      "Star Wars: The Last Jedi\n",
      "$1,332,539,889.00\n",
      "Beauty and the Beast\n",
      "$1,263,521,126.00\n",
      "The Fate of the Furious\n",
      "$1,238,764,765.00\n",
      "Despicable Me 3\n",
      "$1,031,552,585.00\n",
      "Jumanji: Welcome to the Jungle\n",
      "$962,102,237.00\n",
      "Spider-Man: Homecoming\n",
      "$880,166,924.00\n",
      "Wolf Warrior 2\n",
      "$870,322,670.00\n",
      "Guardians of the Galaxy Vol. 2\n",
      "$863,756,051.00\n",
      "Thor: Ragnarok\n",
      "$853,977,126.00\n",
      "Wonder Woman\n",
      "$821,847,012.00\n",
      "Coco\n",
      "$800,526,015.00\n",
      "Pirates of the Caribbean: Dead Men Tell No Tales\n",
      "$794,861,794.00\n",
      "It\n",
      "$701,796,444.00\n",
      "Justice League\n",
      "$657,924,295.00\n",
      "Logan\n",
      "$619,021,436.00\n",
      "Transformers: The Last Knight\n",
      "$605,425,157.00\n",
      "Kong: Skull Island\n",
      "$566,652,812.00\n",
      "Dunkirk\n",
      "$525,573,161.00\n",
      "The Boss Baby\n",
      "$498,814,908.00\n",
      "War for the Planet of the Apes\n",
      "$488,533,726.00\n"
     ]
    }
   ],
   "source": [
    "# for each of the highest revenue films make an api call for that specific movie to return the budget and revenue\n",
    "for film in highest_revenue_films:\n",
    "    print(film['title'])\n",
    "    film_revenue = requests.get('https://api.themoviedb.org/3/movie/'+ str(film['id']) +'?api_key='+api_key+'&language=en-US')\n",
    "    film_revenue = film_revenue.json()\n",
    "    print(locale.currency(film_revenue['revenue'], grouping=True ))\n",
    "    df.loc[len(df)]=[film['title'],film_revenue['revenue']] # store title and revenue in our dataframe "
   ]
  },
  {
   "cell_type": "code",
   "execution_count": 11,
   "metadata": {},
   "outputs": [
    {
     "data": {
      "text/html": [
       "<div>\n",
       "<style scoped>\n",
       "    .dataframe tbody tr th:only-of-type {\n",
       "        vertical-align: middle;\n",
       "    }\n",
       "\n",
       "    .dataframe tbody tr th {\n",
       "        vertical-align: top;\n",
       "    }\n",
       "\n",
       "    .dataframe thead th {\n",
       "        text-align: right;\n",
       "    }\n",
       "</style>\n",
       "<table border=\"1\" class=\"dataframe\">\n",
       "  <thead>\n",
       "    <tr style=\"text-align: right;\">\n",
       "      <th></th>\n",
       "      <th>film</th>\n",
       "      <th>revenue</th>\n",
       "    </tr>\n",
       "  </thead>\n",
       "  <tbody>\n",
       "    <tr>\n",
       "      <th>0</th>\n",
       "      <td>Star Wars: The Last Jedi</td>\n",
       "      <td>1332539889</td>\n",
       "    </tr>\n",
       "    <tr>\n",
       "      <th>1</th>\n",
       "      <td>Beauty and the Beast</td>\n",
       "      <td>1263521126</td>\n",
       "    </tr>\n",
       "    <tr>\n",
       "      <th>2</th>\n",
       "      <td>The Fate of the Furious</td>\n",
       "      <td>1238764765</td>\n",
       "    </tr>\n",
       "    <tr>\n",
       "      <th>3</th>\n",
       "      <td>Despicable Me 3</td>\n",
       "      <td>1031552585</td>\n",
       "    </tr>\n",
       "    <tr>\n",
       "      <th>4</th>\n",
       "      <td>Jumanji: Welcome to the Jungle</td>\n",
       "      <td>962102237</td>\n",
       "    </tr>\n",
       "  </tbody>\n",
       "</table>\n",
       "</div>"
      ],
      "text/plain": [
       "                             film     revenue\n",
       "0        Star Wars: The Last Jedi  1332539889\n",
       "1            Beauty and the Beast  1263521126\n",
       "2         The Fate of the Furious  1238764765\n",
       "3                 Despicable Me 3  1031552585\n",
       "4  Jumanji: Welcome to the Jungle   962102237"
      ]
     },
     "execution_count": 11,
     "metadata": {},
     "output_type": "execute_result"
    }
   ],
   "source": [
    "df.head()"
   ]
  },
  {
   "cell_type": "code",
   "execution_count": 13,
   "metadata": {},
   "outputs": [],
   "source": [
    "response = requests.get('https://api.themoviedb.org/3/discover/movie?api_key=' +  api_key + '&sort_by=revenue.desc')\n",
    "highest_revenue_ever = response.json()\n",
    "highest_revenue_films_ever = highest_revenue_ever['results']\n",
    "\n",
    "columns = ['film', 'revenue', 'budget', 'release_date']\n",
    "highest_revenue_ever_df = pd.DataFrame(columns=columns)\n",
    "\n",
    "for film in highest_revenue_films_ever:\n",
    "\n",
    "    film_revenue = requests.get('https://api.themoviedb.org/3/movie/'+ str(film['id']) +'?api_key='+ api_key+'&language=en-US')\n",
    "    film_revenue = film_revenue.json()\n",
    "\n",
    "    if film_revenue['budget'] > 281:\n",
    "        # add film title, revenue, budget and release date to the dataframe\n",
    "        highest_revenue_ever_df.loc[len(highest_revenue_ever_df)]=[film['title'],film_revenue['revenue'], (film_revenue['budget'] * -1), film_revenue['release_date']]"
   ]
  },
  {
   "cell_type": "code",
   "execution_count": 14,
   "metadata": {},
   "outputs": [
    {
     "data": {
      "text/html": [
       "<div>\n",
       "<style scoped>\n",
       "    .dataframe tbody tr th:only-of-type {\n",
       "        vertical-align: middle;\n",
       "    }\n",
       "\n",
       "    .dataframe tbody tr th {\n",
       "        vertical-align: top;\n",
       "    }\n",
       "\n",
       "    .dataframe thead th {\n",
       "        text-align: right;\n",
       "    }\n",
       "</style>\n",
       "<table border=\"1\" class=\"dataframe\">\n",
       "  <thead>\n",
       "    <tr style=\"text-align: right;\">\n",
       "      <th></th>\n",
       "      <th>film</th>\n",
       "      <th>revenue</th>\n",
       "      <th>budget</th>\n",
       "      <th>release_date</th>\n",
       "    </tr>\n",
       "  </thead>\n",
       "  <tbody>\n",
       "    <tr>\n",
       "      <th>0</th>\n",
       "      <td>Avengers: Endgame</td>\n",
       "      <td>2797800564</td>\n",
       "      <td>-356000000</td>\n",
       "      <td>2019-04-24</td>\n",
       "    </tr>\n",
       "    <tr>\n",
       "      <th>1</th>\n",
       "      <td>Avatar</td>\n",
       "      <td>2787965087</td>\n",
       "      <td>-237000000</td>\n",
       "      <td>2009-12-10</td>\n",
       "    </tr>\n",
       "    <tr>\n",
       "      <th>2</th>\n",
       "      <td>Titanic</td>\n",
       "      <td>2187463944</td>\n",
       "      <td>-200000000</td>\n",
       "      <td>1997-11-18</td>\n",
       "    </tr>\n",
       "    <tr>\n",
       "      <th>3</th>\n",
       "      <td>Star Wars: The Force Awakens</td>\n",
       "      <td>2068223624</td>\n",
       "      <td>-245000000</td>\n",
       "      <td>2015-12-15</td>\n",
       "    </tr>\n",
       "    <tr>\n",
       "      <th>4</th>\n",
       "      <td>Avengers: Infinity War</td>\n",
       "      <td>2046239637</td>\n",
       "      <td>-300000000</td>\n",
       "      <td>2018-04-25</td>\n",
       "    </tr>\n",
       "  </tbody>\n",
       "</table>\n",
       "</div>"
      ],
      "text/plain": [
       "                           film     revenue      budget release_date\n",
       "0             Avengers: Endgame  2797800564  -356000000   2019-04-24\n",
       "1                        Avatar  2787965087  -237000000   2009-12-10\n",
       "2                       Titanic  2187463944  -200000000   1997-11-18\n",
       "3  Star Wars: The Force Awakens  2068223624  -245000000   2015-12-15\n",
       "4        Avengers: Infinity War  2046239637  -300000000   2018-04-25"
      ]
     },
     "execution_count": 14,
     "metadata": {},
     "output_type": "execute_result"
    }
   ],
   "source": [
    "highest_revenue_ever_df.head() "
   ]
  },
  {
   "cell_type": "code",
   "execution_count": null,
   "metadata": {},
   "outputs": [],
   "source": []
  }
 ],
 "metadata": {
  "kernelspec": {
   "display_name": "Python 3",
   "language": "python",
   "name": "python3"
  },
  "language_info": {
   "codemirror_mode": {
    "name": "ipython",
    "version": 3
   },
   "file_extension": ".py",
   "mimetype": "text/x-python",
   "name": "python",
   "nbconvert_exporter": "python",
   "pygments_lexer": "ipython3",
   "version": "3.8.5"
  }
 },
 "nbformat": 4,
 "nbformat_minor": 4
}
