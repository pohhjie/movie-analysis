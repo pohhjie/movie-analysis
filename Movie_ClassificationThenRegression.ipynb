{
 "cells": [
  {
   "cell_type": "code",
   "execution_count": null,
   "metadata": {},
   "outputs": [],
   "source": [
    "# Perform Classification then Regression"
   ]
  },
  {
   "cell_type": "code",
   "execution_count": 1,
   "metadata": {},
   "outputs": [],
   "source": [
    "# Import all necessary libs\n",
    "\n",
    "import numpy as np\n",
    "import pandas as pd\n",
    "import seaborn as sb\n",
    "import matplotlib.pyplot as plt\n",
    "from sklearn.tree import DecisionTreeClassifier\n",
    "from sklearn.model_selection import train_test_split\n",
    "from sklearn.metrics import confusion_matrix\n",
    "from sklearn.linear_model import LinearRegression\n",
    "sb.set() \n",
    "\n",
    "#Set format for float to be $ because selected columns are currency\n",
    "pd.options.display.float_format = '${:,.2f}'.format"
   ]
  },
  {
   "cell_type": "code",
   "execution_count": 2,
   "metadata": {},
   "outputs": [
    {
     "data": {
      "text/html": [
       "<div>\n",
       "<style scoped>\n",
       "    .dataframe tbody tr th:only-of-type {\n",
       "        vertical-align: middle;\n",
       "    }\n",
       "\n",
       "    .dataframe tbody tr th {\n",
       "        vertical-align: top;\n",
       "    }\n",
       "\n",
       "    .dataframe thead th {\n",
       "        text-align: right;\n",
       "    }\n",
       "</style>\n",
       "<table border=\"1\" class=\"dataframe\">\n",
       "  <thead>\n",
       "    <tr style=\"text-align: right;\">\n",
       "      <th></th>\n",
       "      <th>id</th>\n",
       "      <th>imdb_id</th>\n",
       "      <th>popularity</th>\n",
       "      <th>budget</th>\n",
       "      <th>revenue</th>\n",
       "      <th>original_title</th>\n",
       "      <th>cast</th>\n",
       "      <th>homepage</th>\n",
       "      <th>director</th>\n",
       "      <th>tagline</th>\n",
       "      <th>...</th>\n",
       "      <th>production_companies</th>\n",
       "      <th>release_date</th>\n",
       "      <th>vote_count</th>\n",
       "      <th>vote_average</th>\n",
       "      <th>release_year</th>\n",
       "      <th>budget_adj</th>\n",
       "      <th>revenue_adj</th>\n",
       "      <th>is_remake</th>\n",
       "      <th>inflation_rate</th>\n",
       "      <th>year_difference</th>\n",
       "    </tr>\n",
       "  </thead>\n",
       "  <tbody>\n",
       "    <tr>\n",
       "      <th>0</th>\n",
       "      <td>23437</td>\n",
       "      <td>tt1179056</td>\n",
       "      <td>107.43</td>\n",
       "      <td>35000000</td>\n",
       "      <td>115664037</td>\n",
       "      <td>A Nightmare on Elm Street</td>\n",
       "      <td>Jackie Earle Haley|Katie Cassidy|Kyle Gallner|...</td>\n",
       "      <td>http://www.nightmareonelmstreet.com/</td>\n",
       "      <td>Samuel Bayer</td>\n",
       "      <td>Never Sleep Again.</td>\n",
       "      <td>...</td>\n",
       "      <td>New Line Cinema|Platinum Dunes</td>\n",
       "      <td>4/30/10</td>\n",
       "      <td>423</td>\n",
       "      <td>$5.50</td>\n",
       "      <td>2010</td>\n",
       "      <td>$35,000,000.00</td>\n",
       "      <td>$115,664,037.00</td>\n",
       "      <td>Y</td>\n",
       "      <td>$nan</td>\n",
       "      <td>$nan</td>\n",
       "    </tr>\n",
       "    <tr>\n",
       "      <th>1</th>\n",
       "      <td>377</td>\n",
       "      <td>tt0087800</td>\n",
       "      <td>133.14</td>\n",
       "      <td>1800000</td>\n",
       "      <td>25504513</td>\n",
       "      <td>A Nightmare on Elm Street</td>\n",
       "      <td>John Saxon|Ronee Blakley|Heather Langenkamp|Am...</td>\n",
       "      <td>NaN</td>\n",
       "      <td>Wes Craven</td>\n",
       "      <td>If Nancy Doesn't Wake Up Screaming, She Won't ...</td>\n",
       "      <td>...</td>\n",
       "      <td>New Line Cinema|Smart Egg Pictures</td>\n",
       "      <td>11/15/84</td>\n",
       "      <td>625</td>\n",
       "      <td>$7.10</td>\n",
       "      <td>1984</td>\n",
       "      <td>$3,778,275.67</td>\n",
       "      <td>$53,535,044.98</td>\n",
       "      <td>Y</td>\n",
       "      <td>$nan</td>\n",
       "      <td>$nan</td>\n",
       "    </tr>\n",
       "    <tr>\n",
       "      <th>2</th>\n",
       "      <td>1965</td>\n",
       "      <td>tt0120787</td>\n",
       "      <td>104.13</td>\n",
       "      <td>60000000</td>\n",
       "      <td>128038368</td>\n",
       "      <td>A Perfect Murder</td>\n",
       "      <td>Michael Douglas|Gwyneth Paltrow|Viggo Mortense...</td>\n",
       "      <td>NaN</td>\n",
       "      <td>Andrew Davis</td>\n",
       "      <td>A powerful husband. An unfaithful wife. A jeal...</td>\n",
       "      <td>...</td>\n",
       "      <td>Kopelson Entertainment|Warner Bros.</td>\n",
       "      <td>6/4/98</td>\n",
       "      <td>158</td>\n",
       "      <td>$6.30</td>\n",
       "      <td>1998</td>\n",
       "      <td>$80,261,728.14</td>\n",
       "      <td>$171,276,344.74</td>\n",
       "      <td>Y</td>\n",
       "      <td>$nan</td>\n",
       "      <td>$34.00</td>\n",
       "    </tr>\n",
       "    <tr>\n",
       "      <th>3</th>\n",
       "      <td>14644</td>\n",
       "      <td>tt0423877</td>\n",
       "      <td>9.18</td>\n",
       "      <td>0</td>\n",
       "      <td>0</td>\n",
       "      <td>Boudu</td>\n",
       "      <td>GÃ©rard Depardieu|Catherine Frot|GÃ©rard Jugno...</td>\n",
       "      <td>NaN</td>\n",
       "      <td>GÃ©rard Jugnot</td>\n",
       "      <td>NaN</td>\n",
       "      <td>...</td>\n",
       "      <td>Novo Arturo Films|DD Productions|TF1 Films Pro...</td>\n",
       "      <td>3/9/05</td>\n",
       "      <td>14</td>\n",
       "      <td>$5.00</td>\n",
       "      <td>2005</td>\n",
       "      <td>$0.00</td>\n",
       "      <td>$0.00</td>\n",
       "      <td>Y</td>\n",
       "      <td>$nan</td>\n",
       "      <td>$19.00</td>\n",
       "    </tr>\n",
       "    <tr>\n",
       "      <th>4</th>\n",
       "      <td>1058</td>\n",
       "      <td>tt0085276</td>\n",
       "      <td>65.59</td>\n",
       "      <td>0</td>\n",
       "      <td>19910002</td>\n",
       "      <td>Breathless</td>\n",
       "      <td>Richard Gere|ValÃ©rie Kaprisky|Art Metrano|Joh...</td>\n",
       "      <td>NaN</td>\n",
       "      <td>Jim McBride</td>\n",
       "      <td>He's the last man on earth any woman needs - b...</td>\n",
       "      <td>...</td>\n",
       "      <td>Orion Pictures|Breathless Associates|Miko Prod...</td>\n",
       "      <td>5/13/83</td>\n",
       "      <td>32</td>\n",
       "      <td>$5.80</td>\n",
       "      <td>1983</td>\n",
       "      <td>$0.00</td>\n",
       "      <td>$43,589,206.25</td>\n",
       "      <td>Y</td>\n",
       "      <td>$nan</td>\n",
       "      <td>$23.00</td>\n",
       "    </tr>\n",
       "  </tbody>\n",
       "</table>\n",
       "<p>5 rows × 24 columns</p>\n",
       "</div>"
      ],
      "text/plain": [
       "      id    imdb_id popularity    budget    revenue  \\\n",
       "0  23437  tt1179056     107.43  35000000  115664037   \n",
       "1    377  tt0087800     133.14   1800000   25504513   \n",
       "2   1965  tt0120787     104.13  60000000  128038368   \n",
       "3  14644  tt0423877       9.18         0          0   \n",
       "4   1058  tt0085276      65.59         0   19910002   \n",
       "\n",
       "              original_title  \\\n",
       "0  A Nightmare on Elm Street   \n",
       "1  A Nightmare on Elm Street   \n",
       "2           A Perfect Murder   \n",
       "3                      Boudu   \n",
       "4                 Breathless   \n",
       "\n",
       "                                                cast  \\\n",
       "0  Jackie Earle Haley|Katie Cassidy|Kyle Gallner|...   \n",
       "1  John Saxon|Ronee Blakley|Heather Langenkamp|Am...   \n",
       "2  Michael Douglas|Gwyneth Paltrow|Viggo Mortense...   \n",
       "3  GÃ©rard Depardieu|Catherine Frot|GÃ©rard Jugno...   \n",
       "4  Richard Gere|ValÃ©rie Kaprisky|Art Metrano|Joh...   \n",
       "\n",
       "                               homepage        director  \\\n",
       "0  http://www.nightmareonelmstreet.com/    Samuel Bayer   \n",
       "1                                   NaN      Wes Craven   \n",
       "2                                   NaN    Andrew Davis   \n",
       "3                                   NaN  GÃ©rard Jugnot   \n",
       "4                                   NaN     Jim McBride   \n",
       "\n",
       "                                             tagline  ...  \\\n",
       "0                                 Never Sleep Again.  ...   \n",
       "1  If Nancy Doesn't Wake Up Screaming, She Won't ...  ...   \n",
       "2  A powerful husband. An unfaithful wife. A jeal...  ...   \n",
       "3                                                NaN  ...   \n",
       "4  He's the last man on earth any woman needs - b...  ...   \n",
       "\n",
       "                                production_companies release_date  vote_count  \\\n",
       "0                     New Line Cinema|Platinum Dunes      4/30/10         423   \n",
       "1                 New Line Cinema|Smart Egg Pictures     11/15/84         625   \n",
       "2                Kopelson Entertainment|Warner Bros.       6/4/98         158   \n",
       "3  Novo Arturo Films|DD Productions|TF1 Films Pro...       3/9/05          14   \n",
       "4  Orion Pictures|Breathless Associates|Miko Prod...      5/13/83          32   \n",
       "\n",
       "  vote_average release_year     budget_adj     revenue_adj  is_remake  \\\n",
       "0        $5.50         2010 $35,000,000.00 $115,664,037.00          Y   \n",
       "1        $7.10         1984  $3,778,275.67  $53,535,044.98          Y   \n",
       "2        $6.30         1998 $80,261,728.14 $171,276,344.74          Y   \n",
       "3        $5.00         2005          $0.00           $0.00          Y   \n",
       "4        $5.80         1983          $0.00  $43,589,206.25          Y   \n",
       "\n",
       "   inflation_rate  year_difference  \n",
       "0            $nan             $nan  \n",
       "1            $nan             $nan  \n",
       "2            $nan           $34.00  \n",
       "3            $nan           $19.00  \n",
       "4            $nan           $23.00  \n",
       "\n",
       "[5 rows x 24 columns]"
      ]
     },
     "execution_count": 2,
     "metadata": {},
     "output_type": "execute_result"
    }
   ],
   "source": [
    "## import excel into dataframe\n",
    "\n",
    "mdata = pd.read_excel('MovieDataset.xlsx')\n",
    "#mdata['budget_adj'] = pd.Series([\"${0:.2f}\".format(val) for val in mdata['budget_adj']])\n",
    "#mdata['revenue_adj'] = pd.Series([\"${0:.2f}\".format(val) for val in mdata['revenue_adj']])\n",
    "mdata['is_remake'] = mdata['is_remake'].str.upper() # format categorical value into upper case\n",
    "mdata.head()"
   ]
  },
  {
   "cell_type": "code",
   "execution_count": null,
   "metadata": {},
   "outputs": [],
   "source": [
    "    print(\"Data type : \", type(mdata))\n",
    "print(\"Data dims : \", mdata.shape)"
   ]
  },
  {
   "cell_type": "code",
   "execution_count": 3,
   "metadata": {},
   "outputs": [
    {
     "data": {
      "text/html": [
       "<div>\n",
       "<style scoped>\n",
       "    .dataframe tbody tr th:only-of-type {\n",
       "        vertical-align: middle;\n",
       "    }\n",
       "\n",
       "    .dataframe tbody tr th {\n",
       "        vertical-align: top;\n",
       "    }\n",
       "\n",
       "    .dataframe thead th {\n",
       "        text-align: right;\n",
       "    }\n",
       "</style>\n",
       "<table border=\"1\" class=\"dataframe\">\n",
       "  <thead>\n",
       "    <tr style=\"text-align: right;\">\n",
       "      <th></th>\n",
       "      <th>popularity</th>\n",
       "      <th>original_title</th>\n",
       "      <th>release_year</th>\n",
       "      <th>budget_adj</th>\n",
       "      <th>revenue_adj</th>\n",
       "      <th>is_remake</th>\n",
       "    </tr>\n",
       "  </thead>\n",
       "  <tbody>\n",
       "    <tr>\n",
       "      <th>0</th>\n",
       "      <td>107.43</td>\n",
       "      <td>A Nightmare on Elm Street</td>\n",
       "      <td>2010</td>\n",
       "      <td>$35,000,000.00</td>\n",
       "      <td>$115,664,037.00</td>\n",
       "      <td>Y</td>\n",
       "    </tr>\n",
       "    <tr>\n",
       "      <th>1</th>\n",
       "      <td>133.14</td>\n",
       "      <td>A Nightmare on Elm Street</td>\n",
       "      <td>1984</td>\n",
       "      <td>$3,778,275.67</td>\n",
       "      <td>$53,535,044.98</td>\n",
       "      <td>Y</td>\n",
       "    </tr>\n",
       "    <tr>\n",
       "      <th>2</th>\n",
       "      <td>104.13</td>\n",
       "      <td>A Perfect Murder</td>\n",
       "      <td>1998</td>\n",
       "      <td>$80,261,728.14</td>\n",
       "      <td>$171,276,344.74</td>\n",
       "      <td>Y</td>\n",
       "    </tr>\n",
       "    <tr>\n",
       "      <th>3</th>\n",
       "      <td>9.18</td>\n",
       "      <td>Boudu</td>\n",
       "      <td>2005</td>\n",
       "      <td>$0.00</td>\n",
       "      <td>$0.00</td>\n",
       "      <td>Y</td>\n",
       "    </tr>\n",
       "    <tr>\n",
       "      <th>4</th>\n",
       "      <td>65.59</td>\n",
       "      <td>Breathless</td>\n",
       "      <td>1983</td>\n",
       "      <td>$0.00</td>\n",
       "      <td>$43,589,206.25</td>\n",
       "      <td>Y</td>\n",
       "    </tr>\n",
       "  </tbody>\n",
       "</table>\n",
       "</div>"
      ],
      "text/plain": [
       "  popularity             original_title  release_year     budget_adj  \\\n",
       "0     107.43  A Nightmare on Elm Street          2010 $35,000,000.00   \n",
       "1     133.14  A Nightmare on Elm Street          1984  $3,778,275.67   \n",
       "2     104.13           A Perfect Murder          1998 $80,261,728.14   \n",
       "3       9.18                      Boudu          2005          $0.00   \n",
       "4      65.59                 Breathless          1983          $0.00   \n",
       "\n",
       "      revenue_adj is_remake  \n",
       "0 $115,664,037.00         Y  \n",
       "1  $53,535,044.98         Y  \n",
       "2 $171,276,344.74         Y  \n",
       "3           $0.00         Y  \n",
       "4  $43,589,206.25         Y  "
      ]
     },
     "execution_count": 3,
     "metadata": {},
     "output_type": "execute_result"
    }
   ],
   "source": [
    "# filter to selection columns only to avoid noises from other columns\n",
    "\n",
    "cols = ['original_title', 'release_year','budget_adj','revenue_adj', 'is_remake']\n",
    "movie_cleaner_cols = mdata[cols]\n",
    "movie_cleaner_cols.head()"
   ]
  },
  {
   "cell_type": "code",
   "execution_count": null,
   "metadata": {},
   "outputs": [],
   "source": [
    "#movie_cleaner_cols.info()"
   ]
  },
  {
   "cell_type": "code",
   "execution_count": 4,
   "metadata": {
    "scrolled": true
   },
   "outputs": [
    {
     "name": "stdout",
     "output_type": "stream",
     "text": [
      "Ratio of the classes Y : N = 360 : 10506\n"
     ]
    },
    {
     "data": {
      "image/png": "[encoded data removed]",
      "text/plain": [
       "<Figure size 360x360 with 1 Axes>"
      ]
     },
     "metadata": {},
     "output_type": "display_data"
    }
   ],
   "source": [
    "# extract column for classification\n",
    "\n",
    "is_remake = pd.DataFrame(movie_cleaner_cols['is_remake'])  # Response\n",
    "revenue_adj = pd.DataFrame(movie_cleaner_cols['revenue_adj'])      # Predictor\n",
    "distIR = is_remake[\"is_remake\"].value_counts()\n",
    "sb.catplot(y = \"is_remake\", data = is_remake, kind = \"count\")\n",
    "print(f\"Ratio of the classes Y : N = {distIR.loc['Y']} : {distIR.loc['N']}\")"
   ]
  },
  {
   "cell_type": "code",
   "execution_count": null,
   "metadata": {},
   "outputs": [],
   "source": [
    "#irra = pd.concat([is_remake,revenue_adj], axis=1)\n",
    "#f, axes = plt.subplots(1, 2, figsize=(12, 4))\n",
    "#sb.boxplot(x=\"revenue_adj\", y = \"is_remake\", data = irra, orient='h', ax = axes[0])\n",
    "#sb.swarmplot(x=\"revenue_adj\", y = \"is_remake\", data = irra, orient = \"h\")"
   ]
  },
  {
   "cell_type": "code",
   "execution_count": 5,
   "metadata": {},
   "outputs": [
    {
     "name": "stdout",
     "output_type": "stream",
     "text": [
      "Train Set : revenue_adj: (8149, 1), is_remake: (8149, 1)\n",
      "Test Set : revenue_adj: (2717, 1) , is_remake: (2717, 1)\n"
     ]
    }
   ],
   "source": [
    "# Prepare train and test data\n",
    "\n",
    "rev_train, rev_test, rm_train, rm_test = train_test_split(revenue_adj, is_remake, test_size = 0.25)\n",
    "print(f\"Train Set : revenue_adj: {rev_train.shape}, is_remake: {rm_train.shape}\")\n",
    "print(f\"Test Set : revenue_adj: {rev_test.shape} , is_remake: {rm_test.shape}\")"
   ]
  },
  {
   "cell_type": "code",
   "execution_count": 6,
   "metadata": {},
   "outputs": [],
   "source": [
    "# Create decision tree classifier and train it\n",
    "\n",
    "dectree = DecisionTreeClassifier(max_depth = 2)  \n",
    "dectree.fit(rev_train, rm_train)    \n",
    "rm_train_pred = dectree.predict(rev_train)\n",
    "rm_test_pred = dectree.predict(rev_test)"
   ]
  },
  {
   "cell_type": "code",
   "execution_count": null,
   "metadata": {},
   "outputs": [],
   "source": [
    "print(\"Goodness of Fit of Model \\tTrain Dataset\")\n",
    "print(\"Classification Accuracy \\t:\", dectree.score(rev_train, rm_train))\n",
    "print()"
   ]
  },
  {
   "cell_type": "code",
   "execution_count": 7,
   "metadata": {},
   "outputs": [
    {
     "data": {
      "image/png": "[encoded data removed]",
      "text/plain": [
       "<Figure size 1296x432 with 1 Axes>"
      ]
     },
     "metadata": {},
     "output_type": "display_data"
    }
   ],
   "source": [
    "# Plot the trained decision tree\n",
    "\n",
    "dectree = DecisionTreeClassifier(max_depth = 3)\n",
    "dectree.fit(rev_train, rm_train)\n",
    "\n",
    "from sklearn.tree import plot_tree\n",
    "\n",
    "f = plt.figure(figsize=(18,6))\n",
    "plot_tree(dectree, filled=True, rounded=True, \n",
    "          feature_names=[\"revenue_adj\"], \n",
    "          class_names=[\"N\",\"Y\"])\n",
    "\n",
    "rm_train_pred = dectree.predict(rev_train)"
   ]
  },
  {
   "cell_type": "code",
   "execution_count": 8,
   "metadata": {},
   "outputs": [
    {
     "data": {
      "text/plain": [
       "<AxesSubplot:>"
      ]
     },
     "execution_count": 8,
     "metadata": {},
     "output_type": "execute_result"
    },
    {
     "data": {
      "image/png": "[encoded data removed]",
      "text/plain": [
       "<Figure size 432x288 with 2 Axes>"
      ]
     },
     "metadata": {},
     "output_type": "display_data"
    }
   ],
   "source": [
    "# Plot the Confusion Matrix for Train and Test train\n",
    "\n",
    "sb.heatmap(confusion_matrix(rm_train, rm_train_pred), \n",
    "           annot = True, fmt=\".0f\", annot_kws={\"size\": 18})"
   ]
  },
  {
   "cell_type": "code",
   "execution_count": 9,
   "metadata": {},
   "outputs": [
    {
     "name": "stdout",
     "output_type": "stream",
     "text": [
      "True Positive Rate:\t\t0.014285714285714285\n",
      "True Negative Rate:\t\t1.0\n",
      "False Positive Rate:\t\t0.0\n",
      "False Negative Rate:\t\t0.9857142857142858\n",
      "Classification Accuracy:\t0.9661308135967603\n"
     ]
    }
   ],
   "source": [
    "# Get TPR/TNR, FPR/FNR & classification accuracy of train data\n",
    "\n",
    "cm = confusion_matrix(rm_train, rm_train_pred)\n",
    "train_tn = cm[0][0]\n",
    "train_fp = cm[0][1]\n",
    "train_fn = cm[1][0]\n",
    "train_tp = cm[1][1]\n",
    "\n",
    "def get_TrueRates(TP,TN,FP,FN):\n",
    "    return TP/(TP+FN), TN/(TN+FP) # TPR, TNR\n",
    "def get_FalseRates(TP,TN,FP,FN):\n",
    "    return FP/(TN+FP), FN/(FN+TP) # FPR, FNR\n",
    "def get_ClassificationAccuracy(TP,TN,FP,FN):\n",
    "    return (TP+TN)/(TP+FP+FN+TN)\n",
    "\n",
    "train_tpr, train_tnr = get_TrueRates(train_tp,train_tn,train_fp,train_fn)\n",
    "train_fpr, train_fnr = get_FalseRates(train_tp,train_tn,train_fp,train_fn)\n",
    "train_acc = get_ClassificationAccuracy(train_tp,train_tn,train_fp,train_fn)\n",
    "print(f\"True Positive Rate:\\t\\t{train_tpr}\")\n",
    "print(f\"True Negative Rate:\\t\\t{train_tnr}\")\n",
    "print(f\"False Positive Rate:\\t\\t{train_fpr}\")\n",
    "print(f\"False Negative Rate:\\t\\t{train_fnr}\")\n",
    "\n",
    "print(f\"Classification Accuracy:\\t{train_acc}\")"
   ]
  },
  {
   "cell_type": "code",
   "execution_count": 10,
   "metadata": {},
   "outputs": [
    {
     "data": {
      "text/plain": [
       "<AxesSubplot:>"
      ]
     },
     "execution_count": 10,
     "metadata": {},
     "output_type": "execute_result"
    },
    {
     "data": {
      "image/png": "[encoded data removed]",
      "text/plain": [
       "<Figure size 432x288 with 2 Axes>"
      ]
     },
     "metadata": {},
     "output_type": "display_data"
    }
   ],
   "source": [
    "# Plot the Confusion Matrix for Train and Test train\n",
    "\n",
    "rm_test_pred = dectree.predict(rev_test)\n",
    "sb.heatmap(confusion_matrix(rm_test, rm_test_pred), \n",
    "           annot = True, fmt=\".0f\", annot_kws={\"size\": 18})"
   ]
  },
  {
   "cell_type": "code",
   "execution_count": 11,
   "metadata": {},
   "outputs": [
    {
     "name": "stdout",
     "output_type": "stream",
     "text": [
      "True Positive Rate:\t\t0.0\n",
      "True Negative Rate:\t\t0.999620781190747\n",
      "False Positive Rate:\t\t0.0003792188092529389\n",
      "False Negative Rate:\t\t1.0\n",
      "Classification Accuracy:\t0.9701877070298123\n"
     ]
    }
   ],
   "source": [
    "# Get TPR/TNR, FPR/FNR & classification accuracy of train data\n",
    "\n",
    "cm = confusion_matrix(rm_test, rm_test_pred)\n",
    "test_tn = cm[0][0]\n",
    "test_fp = cm[0][1]\n",
    "test_fn = cm[1][0]\n",
    "test_tp = cm[1][1]\n",
    "\n",
    "test_tpr, test_tnr = get_TrueRates(test_tp,test_tn,test_fp,test_fn)\n",
    "test_fpr, test_fnr = get_FalseRates(test_tp,test_tn,test_fp,test_fn)\n",
    "test_acc = get_ClassificationAccuracy(test_tp,test_tn,test_fp,test_fn)\n",
    "print(f\"True Positive Rate:\\t\\t{test_tpr}\")\n",
    "print(f\"True Negative Rate:\\t\\t{test_tnr}\")\n",
    "print(f\"False Positive Rate:\\t\\t{test_fpr}\")\n",
    "print(f\"False Negative Rate:\\t\\t{test_fnr}\")\n",
    "\n",
    "print(f\"Classification Accuracy:\\t{test_acc}\")"
   ]
  },
  {
   "cell_type": "code",
   "execution_count": 12,
   "metadata": {},
   "outputs": [
    {
     "name": "stdout",
     "output_type": "stream",
     "text": [
      "0        0\n",
      "1        0\n",
      "2        0\n",
      "3        0\n",
      "4        0\n",
      "        ..\n",
      "10861    1\n",
      "10862    1\n",
      "10863    1\n",
      "10864    1\n",
      "10865    1\n",
      "Name: is_remake, Length: 10866, dtype: int8\n"
     ]
    },
    {
     "name": "stderr",
     "output_type": "stream",
     "text": [
      "<ipython-input-12-31a05f9c9fab>:1: SettingWithCopyWarning: \n",
      "A value is trying to be set on a copy of a slice from a DataFrame.\n",
      "Try using .loc[row_indexer,col_indexer] = value instead\n",
      "\n",
      "See the caveats in the documentation: https://pandas.pydata.org/pandas-docs/stable/user_guide/indexing.html#returning-a-view-versus-a-copy\n",
      "  movie_cleaner_cols['is_remake'] = movie_cleaner_cols['is_remake'].astype('category')\n",
      "<ipython-input-12-31a05f9c9fab>:2: SettingWithCopyWarning: \n",
      "A value is trying to be set on a copy of a slice from a DataFrame.\n",
      "Try using .loc[row_indexer,col_indexer] = value instead\n",
      "\n",
      "See the caveats in the documentation: https://pandas.pydata.org/pandas-docs/stable/user_guide/indexing.html#returning-a-view-versus-a-copy\n",
      "  movie_cleaner_cols['is_remake'] = movie_cleaner_cols['is_remake'].cat.reorder_categories(['Y', 'N'], ordered=True)\n",
      "<ipython-input-12-31a05f9c9fab>:3: SettingWithCopyWarning: \n",
      "A value is trying to be set on a copy of a slice from a DataFrame.\n",
      "Try using .loc[row_indexer,col_indexer] = value instead\n",
      "\n",
      "See the caveats in the documentation: https://pandas.pydata.org/pandas-docs/stable/user_guide/indexing.html#returning-a-view-versus-a-copy\n",
      "  movie_cleaner_cols['is_remake'] = movie_cleaner_cols['is_remake'].cat.codes\n"
     ]
    }
   ],
   "source": [
    "# Format categorical data into 0 and 1 to perform linear regression\n",
    "\n",
    "movie_cleaner_cols['is_remake'] = movie_cleaner_cols['is_remake'].astype('category')\n",
    "movie_cleaner_cols['is_remake'] = movie_cleaner_cols['is_remake'].cat.reorder_categories(['Y', 'N'], ordered=True)\n",
    "movie_cleaner_cols['is_remake'] = movie_cleaner_cols['is_remake'].cat.codes\n",
    "print(movie_cleaner_cols['is_remake'])"
   ]
  },
  {
   "cell_type": "code",
   "execution_count": 14,
   "metadata": {},
   "outputs": [],
   "source": [
    "# reset train and test data for linear regression\n",
    "\n",
    "is_remake = pd.DataFrame(movie_cleaner_cols['is_remake'])  # Response\n",
    "revenue_adj = pd.DataFrame(movie_cleaner_cols['revenue_adj'])      # Predictor\n",
    "rev_train, rev_test, rm_train, rm_test = train_test_split(revenue_adj, is_remake, test_size = 0.25)"
   ]
  },
  {
   "cell_type": "code",
   "execution_count": 15,
   "metadata": {},
   "outputs": [
    {
     "name": "stdout",
     "output_type": "stream",
     "text": [
      "Intercept \t: b =  [2.30122234e+08]\n",
      "Coefficients \t: a =  [[-1.86724326e+08]]\n"
     ]
    }
   ],
   "source": [
    "linreg = LinearRegression()\n",
    "linreg.fit(rm_train, rev_train)\n",
    "print('Intercept \\t: b = ', linreg.intercept_)\n",
    "print('Coefficients \\t: a = ', linreg.coef_)"
   ]
  },
  {
   "cell_type": "code",
   "execution_count": 16,
   "metadata": {},
   "outputs": [
    {
     "data": {
      "image/png": "[encoded data removed]",
      "text/plain": [
       "<Figure size 1152x576 with 1 Axes>"
      ]
     },
     "metadata": {},
     "output_type": "display_data"
    }
   ],
   "source": [
    "regline_x = rm_train\n",
    "regline_y = linreg.intercept_ + linreg.coef_ * rm_train\n",
    "\n",
    "# Plot the Linear Regression line\n",
    "f = plt.figure(figsize=(16, 8))\n",
    "plt.scatter(rm_train, rev_train)\n",
    "plt.plot(regline_x, regline_y, 'r-', linewidth = 3)\n",
    "plt.show()"
   ]
  },
  {
   "cell_type": "code",
   "execution_count": 18,
   "metadata": {},
   "outputs": [
    {
     "data": {
      "image/png": "[encoded data removed]",
      "text/plain": [
       "<Figure size 1152x576 with 1 Axes>"
      ]
     },
     "metadata": {},
     "output_type": "display_data"
    }
   ],
   "source": [
    "rev_train_pred = linreg.predict(rm_train)\n",
    "\n",
    "# Plot the Linear Regression line\n",
    "f = plt.figure(figsize=(16, 8))\n",
    "plt.scatter(rm_train, rev_train)\n",
    "plt.scatter(rm_train, rev_train_pred, color = \"r\")\n",
    "plt.show()"
   ]
  },
  {
   "cell_type": "code",
   "execution_count": 26,
   "metadata": {},
   "outputs": [
    {
     "data": {
      "text/html": [
       "<div>\n",
       "<style scoped>\n",
       "    .dataframe tbody tr th:only-of-type {\n",
       "        vertical-align: middle;\n",
       "    }\n",
       "\n",
       "    .dataframe tbody tr th {\n",
       "        vertical-align: top;\n",
       "    }\n",
       "\n",
       "    .dataframe thead th {\n",
       "        text-align: right;\n",
       "    }\n",
       "</style>\n",
       "<table border=\"1\" class=\"dataframe\">\n",
       "  <thead>\n",
       "    <tr style=\"text-align: right;\">\n",
       "      <th></th>\n",
       "      <th>popularity</th>\n",
       "      <th>original_title</th>\n",
       "      <th>release_year</th>\n",
       "      <th>budget_adj</th>\n",
       "      <th>revenue_adj</th>\n",
       "      <th>is_remake</th>\n",
       "    </tr>\n",
       "  </thead>\n",
       "  <tbody>\n",
       "    <tr>\n",
       "      <th>17</th>\n",
       "      <td>555.68</td>\n",
       "      <td>Cinderella</td>\n",
       "      <td>2015</td>\n",
       "      <td>$87,399,961.54</td>\n",
       "      <td>$498,963,025.22</td>\n",
       "      <td>0</td>\n",
       "    </tr>\n",
       "    <tr>\n",
       "      <th>2219</th>\n",
       "      <td>15.63</td>\n",
       "      <td>Cinderella</td>\n",
       "      <td>1997</td>\n",
       "      <td>$0.00</td>\n",
       "      <td>$0.00</td>\n",
       "      <td>1</td>\n",
       "    </tr>\n",
       "    <tr>\n",
       "      <th>4549</th>\n",
       "      <td>936.36</td>\n",
       "      <td>Inception</td>\n",
       "      <td>2010</td>\n",
       "      <td>$160,000,000.00</td>\n",
       "      <td>$825,500,000.00</td>\n",
       "      <td>1</td>\n",
       "    </tr>\n",
       "    <tr>\n",
       "      <th>10051</th>\n",
       "      <td>435.52</td>\n",
       "      <td>Titanic</td>\n",
       "      <td>1997</td>\n",
       "      <td>$271,692,064.21</td>\n",
       "      <td>$2,506,405,735.42</td>\n",
       "      <td>1</td>\n",
       "    </tr>\n",
       "    <tr>\n",
       "      <th>10052</th>\n",
       "      <td>21.94</td>\n",
       "      <td>Titanic</td>\n",
       "      <td>1996</td>\n",
       "      <td>$18,072,817.61</td>\n",
       "      <td>$0.00</td>\n",
       "      <td>1</td>\n",
       "    </tr>\n",
       "  </tbody>\n",
       "</table>\n",
       "</div>"
      ],
      "text/plain": [
       "      popularity original_title  release_year      budget_adj  \\\n",
       "17        555.68     Cinderella          2015  $87,399,961.54   \n",
       "2219       15.63     Cinderella          1997           $0.00   \n",
       "4549      936.36      Inception          2010 $160,000,000.00   \n",
       "10051     435.52        Titanic          1997 $271,692,064.21   \n",
       "10052      21.94        Titanic          1996  $18,072,817.61   \n",
       "\n",
       "            revenue_adj  is_remake  \n",
       "17      $498,963,025.22          0  \n",
       "2219              $0.00          1  \n",
       "4549    $825,500,000.00          1  \n",
       "10051 $2,506,405,735.42          1  \n",
       "10052             $0.00          1  "
      ]
     },
     "execution_count": 26,
     "metadata": {},
     "output_type": "execute_result"
    }
   ],
   "source": [
    "movie_pred = movie_cleaner_cols[movie_cleaner_cols[\"original_title\"].isin([\"Titanic\", \"Inception\", \"Cinderella\"])]\n",
    "movie_pred"
   ]
  },
  {
   "cell_type": "code",
   "execution_count": 37,
   "metadata": {},
   "outputs": [],
   "source": [
    "predictors =  [\"is_remake\"]\n",
    "X_pred = pd.DataFrame(movie_pred[predictors])"
   ]
  },
  {
   "cell_type": "code",
   "execution_count": 38,
   "metadata": {},
   "outputs": [
    {
     "data": {
      "text/plain": [
       "array([[2.30122234e+08],\n",
       "       [4.33979082e+07],\n",
       "       [4.33979082e+07],\n",
       "       [4.33979082e+07],\n",
       "       [4.33979082e+07]])"
      ]
     },
     "execution_count": 38,
     "metadata": {},
     "output_type": "execute_result"
    }
   ],
   "source": [
    "y_pred = linreg.predict(X_pred)\n",
    "y_pred"
   ]
  },
  {
   "cell_type": "code",
   "execution_count": 39,
   "metadata": {},
   "outputs": [
    {
     "data": {
      "text/html": [
       "<div>\n",
       "<style scoped>\n",
       "    .dataframe tbody tr th:only-of-type {\n",
       "        vertical-align: middle;\n",
       "    }\n",
       "\n",
       "    .dataframe tbody tr th {\n",
       "        vertical-align: top;\n",
       "    }\n",
       "\n",
       "    .dataframe thead th {\n",
       "        text-align: right;\n",
       "    }\n",
       "</style>\n",
       "<table border=\"1\" class=\"dataframe\">\n",
       "  <thead>\n",
       "    <tr style=\"text-align: right;\">\n",
       "      <th></th>\n",
       "      <th>original_title</th>\n",
       "      <th>revenue_adj</th>\n",
       "      <th>pred_revenue</th>\n",
       "    </tr>\n",
       "  </thead>\n",
       "  <tbody>\n",
       "    <tr>\n",
       "      <th>17</th>\n",
       "      <td>Cinderella</td>\n",
       "      <td>$498,963,025.22</td>\n",
       "      <td>$230,122,233.81</td>\n",
       "    </tr>\n",
       "    <tr>\n",
       "      <th>2219</th>\n",
       "      <td>Cinderella</td>\n",
       "      <td>$0.00</td>\n",
       "      <td>$43,397,908.21</td>\n",
       "    </tr>\n",
       "    <tr>\n",
       "      <th>4549</th>\n",
       "      <td>Inception</td>\n",
       "      <td>$825,500,000.00</td>\n",
       "      <td>$43,397,908.21</td>\n",
       "    </tr>\n",
       "    <tr>\n",
       "      <th>10051</th>\n",
       "      <td>Titanic</td>\n",
       "      <td>$2,506,405,735.42</td>\n",
       "      <td>$43,397,908.21</td>\n",
       "    </tr>\n",
       "    <tr>\n",
       "      <th>10052</th>\n",
       "      <td>Titanic</td>\n",
       "      <td>$0.00</td>\n",
       "      <td>$43,397,908.21</td>\n",
       "    </tr>\n",
       "  </tbody>\n",
       "</table>\n",
       "</div>"
      ],
      "text/plain": [
       "      original_title       revenue_adj    pred_revenue\n",
       "17        Cinderella   $498,963,025.22 $230,122,233.81\n",
       "2219      Cinderella             $0.00  $43,397,908.21\n",
       "4549       Inception   $825,500,000.00  $43,397,908.21\n",
       "10051        Titanic $2,506,405,735.42  $43,397,908.21\n",
       "10052        Titanic             $0.00  $43,397,908.21"
      ]
     },
     "execution_count": 39,
     "metadata": {},
     "output_type": "execute_result"
    }
   ],
   "source": [
    "y_pred = pd.DataFrame(y_pred, columns = [\"pred_revenue\"], index = movie_pred.index)\n",
    "movie_predcheck = pd.concat([movie_pred[[\"original_title\", \"revenue_adj\"]], y_pred], axis = 1)\n",
    "movie_predcheck"
   ]
  },
  {
   "cell_type": "code",
   "execution_count": null,
   "metadata": {},
   "outputs": [],
   "source": []
  }
 ],
 "metadata": {
  "kernelspec": {
   "display_name": "Python 3",
   "language": "python",
   "name": "python3"
  },
  "language_info": {
   "codemirror_mode": {
    "name": "ipython",
    "version": 3
   },
   "file_extension": ".py",
   "mimetype": "text/x-python",
   "name": "python",
   "nbconvert_exporter": "python",
   "pygments_lexer": "ipython3",
   "version": "3.8.5"
  }
 },
 "nbformat": 4,
 "nbformat_minor": 4
}
